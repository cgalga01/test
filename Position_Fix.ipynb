{
 "cells": [
  {
   "cell_type": "code",
   "execution_count": 1,
   "metadata": {},
   "outputs": [],
   "source": [
    "import pandas as pd\n",
    "import numpy as np"
   ]
  },
  {
   "cell_type": "code",
   "execution_count": 2,
   "metadata": {},
   "outputs": [
    {
     "name": "stdout",
     "output_type": "stream",
     "text": [
      "      Rk              Name  Age   Tm   Lg    G   PA   AB    R    H  ...  \\\n",
      "0      1        CJ Abrams*   22  WSN   NL  151  614  563   83  138  ...   \n",
      "1      2        José Abreu   36  HOU   AL  141  594  540   62  128  ...   \n",
      "2      3     Wilyer Abreu*   24  BOS   AL   28   85   76   10   24  ...   \n",
      "3      4  Ronald Acuna Jr.   25  ATL   NL  159  735  643  149  217  ...   \n",
      "4      5      Willy Adames   27  MIL   NL  149  638  553   73  120  ...   \n",
      "..   ...               ...  ...  ...  ...  ...  ...  ...  ...  ...  ...   \n",
      "892  893      Jared Young*   27  CHC   NL   16   47   43    8    8  ...   \n",
      "893  894       Seby Zavala   29  TOT  MLB   73  193  175   17   30  ...   \n",
      "894  895       Seby Zavala   29  CHW   AL   66  176  161   15   25  ...   \n",
      "895  896       Seby Zavala   29  ARI   NL    7   17   14    2    5  ...   \n",
      "896  897       Mike Zunino   32  CLE   AL   42  140  124   11   22  ...   \n",
      "\n",
      "       OPS   OPS+   TB  GDP  HBP  SH  SF  IBB     Pos  Name-additional  \n",
      "0    0.712   95.0  232    7   13   3   3    2     6/H        abramcj01  \n",
      "1    0.680   87.0  207   16    6   0   6    1     3/D        abreujo02  \n",
      "2    0.862  132.0   36    0    0   0   0    0  87/H9D        abreuwi02  \n",
      "3    1.012  168.0  383   15    9   0   3    3     9/D        acunaro01  \n",
      "4    0.717   95.0  225   12    6   0   6    1     6/D        adamewi01  \n",
      "..     ...    ...  ...  ...  ...  ..  ..  ...     ...              ...  \n",
      "892  0.720   88.0   20    1    1   0   0    0    3/DH        youngja02  \n",
      "893  0.545   47.0   55    4    2   2   2    0    2/H1        zavalse01  \n",
      "894  0.511   37.0   49    4    1   2   2    0     2/H        zavalse01  \n",
      "895  0.899  150.0    6    0    1   0   0    0    /21H        zavalse01  \n",
      "896  0.578   62.0   38    3    1   0   0    0       2        zuninmi01  \n",
      "\n",
      "[897 rows x 31 columns]\n"
     ]
    },
    {
     "name": "stderr",
     "output_type": "stream",
     "text": [
      "/var/folders/xb/k5jn_45j51v9dkktpk3b41ch0000gn/T/ipykernel_46197/3514292795.py:3: FutureWarning: The default value of regex will change from True to False in a future version. In addition, single character regular expressions will *not* be treated as literal strings when regex=True.\n",
      "  mlbdb['Pos'] = mlbdb['Pos'].str.replace('*','')\n"
     ]
    }
   ],
   "source": [
    "mlbdb = pd.read_csv('./2023_Batting_Stats.csv') #Data taken from baseball reference\n",
    "mlbdb = mlbdb.rename(columns= {\"Pos Summary\": \"Pos\"}) \n",
    "mlbdb['Pos'] = mlbdb['Pos'].str.replace('*','')\n",
    "print(mlbdb)\n"
   ]
  },
  {
   "cell_type": "code",
   "execution_count": 3,
   "metadata": {},
   "outputs": [],
   "source": [
    "pp = []\n",
    "for item in mlbdb['Pos']:\n",
    "    temp = \"\"\n",
    "    if item[0] == '1':\n",
    "        temp=\"SP\"\n",
    "    elif item[0] == '2':\n",
    "        temp=\"C\"\n",
    "    elif item[0] == '3':\n",
    "        temp=\"1B\"\n",
    "    elif item[0] == '4':\n",
    "        temp=\"2B\"\n",
    "    elif item[0] == '6':\n",
    "        temp=\"SS\"\n",
    "    elif item[0] == '5':\n",
    "        temp=\"3B\"\n",
    "    elif item[0] == '7':\n",
    "        temp=\"OF\"\n",
    "    elif item[0] == '8':\n",
    "        temp=\"OF\"\n",
    "    elif item[0] == '9':\n",
    "        temp=\"OF\"\n",
    "    elif item[0] =='D':\n",
    "        temp=\"DH\"\n",
    "    else:\n",
    "        temp= item[0]\n",
    "    pp.append(temp)\n",
    "\n",
    "mlbdb['PrimaryPos'] = pp\n"
   ]
  },
  {
   "cell_type": "code",
   "execution_count": 4,
   "metadata": {},
   "outputs": [
    {
     "name": "stdout",
     "output_type": "stream",
     "text": [
      "      Rk              Name  Age   Tm   Lg    G   PA   AB    R    H  ...  \\\n",
      "0      1        CJ Abrams*   22  WSN   NL  151  614  563   83  138  ...   \n",
      "1      2        José Abreu   36  HOU   AL  141  594  540   62  128  ...   \n",
      "2      3     Wilyer Abreu*   24  BOS   AL   28   85   76   10   24  ...   \n",
      "3      4  Ronald Acuna Jr.   25  ATL   NL  159  735  643  149  217  ...   \n",
      "4      5      Willy Adames   27  MIL   NL  149  638  553   73  120  ...   \n",
      "..   ...               ...  ...  ...  ...  ...  ...  ...  ...  ...  ...   \n",
      "892  893      Jared Young*   27  CHC   NL   16   47   43    8    8  ...   \n",
      "893  894       Seby Zavala   29  TOT  MLB   73  193  175   17   30  ...   \n",
      "894  895       Seby Zavala   29  CHW   AL   66  176  161   15   25  ...   \n",
      "895  896       Seby Zavala   29  ARI   NL    7   17   14    2    5  ...   \n",
      "896  897       Mike Zunino   32  CLE   AL   42  140  124   11   22  ...   \n",
      "\n",
      "     Name-additional  PrimaryPos  1B  Pos_2B  Pos_3B  C  DH  OF  SP  SS  \n",
      "0          abramcj01          SS   0       0       0  0   0   0   0   1  \n",
      "1          abreujo02          1B   1       0       0  0   1   0   0   0  \n",
      "2          abreuwi02          OF   0       0       0  0   1   1   0   0  \n",
      "3          acunaro01          OF   0       0       0  0   1   1   0   0  \n",
      "4          adamewi01          SS   0       0       0  0   1   0   0   1  \n",
      "..               ...         ...  ..     ...     ... ..  ..  ..  ..  ..  \n",
      "892        youngja02          1B   1       0       0  0   1   0   0   0  \n",
      "893        zavalse01           C   0       0       0  1   0   0   1   0  \n",
      "894        zavalse01           C   0       0       0  1   0   0   0   0  \n",
      "895        zavalse01           /   0       0       0  1   0   0   1   0  \n",
      "896        zuninmi01           C   0       0       0  1   0   0   0   0  \n",
      "\n",
      "[897 rows x 40 columns]\n"
     ]
    }
   ],
   "source": [
    "# Your existing code for cleaning the 'Pos' column\n",
    "all_p = []\n",
    "for item in mlbdb['Pos']:\n",
    "    temp = \"\"\n",
    "    for char in item:\n",
    "        if char == '1':\n",
    "            temp += \"SP,\"\n",
    "        elif char == '2':\n",
    "            temp += \"C,\"\n",
    "        elif char == '3':\n",
    "            temp += \"1B,\"\n",
    "        elif char == '4':\n",
    "            temp += \"2B,\"\n",
    "        elif char == '5':\n",
    "            temp += \"3B,\"\n",
    "        elif char == '6':\n",
    "            temp += \"SS,\"\n",
    "        elif char == '7':\n",
    "            if \"OF\" not in temp:\n",
    "                temp += \"OF,\"\n",
    "        elif char == '8':\n",
    "            if \"OF\" not in temp:\n",
    "                temp += \"OF,\"\n",
    "        elif char == '9':\n",
    "            if \"OF\" not in temp:\n",
    "                temp += \"OF,\"\n",
    "        elif char == 'D':\n",
    "            temp += \"DH,\"\n",
    "        else:\n",
    "            pass  # Handle 'H' as needed or skip it\n",
    "\n",
    "    all_p.append(temp.strip(','))  # Remove trailing comma\n",
    "\n",
    "mlbdb['Pos'] = all_p\n",
    "\n",
    "# Create the 'test' DataFrame\n",
    "test = mlbdb['Pos'].str.get_dummies(sep=',')\n",
    "\n",
    "# Rename the '2B' and '3B' columns in the 'test' DataFrame\n",
    "test.rename(columns={'2B': 'Pos_2B', '3B': 'Pos_3B'}, inplace=True)\n",
    "\n",
    "# Join the 'test' DataFrame to the original DataFrame\n",
    "mlbdb = mlbdb.join(test)\n",
    "\n",
    "# Now, you shouldn't encounter the \"columns overlap\" error\n",
    "print(mlbdb)\n"
   ]
  },
  {
   "cell_type": "code",
   "execution_count": 5,
   "metadata": {},
   "outputs": [],
   "source": [
    "mlbdb.to_csv(\"Batting_Stats_Fixed.csv\", index=False)"
   ]
  }
 ],
 "metadata": {
  "kernelspec": {
   "display_name": "Python 3",
   "language": "python",
   "name": "python3"
  },
  "language_info": {
   "codemirror_mode": {
    "name": "ipython",
    "version": 3
   },
   "file_extension": ".py",
   "mimetype": "text/x-python",
   "name": "python",
   "nbconvert_exporter": "python",
   "pygments_lexer": "ipython3",
   "version": "3.10.9"
  }
 },
 "nbformat": 4,
 "nbformat_minor": 2
}
